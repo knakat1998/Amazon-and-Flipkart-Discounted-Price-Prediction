{
 "cells": [
  {
   "cell_type": "markdown",
   "metadata": {},
   "source": [
    "# Introduction\n",
    "\n",
    "This challenge is the capstone project of the Summer Analytics, a primer course on Data Science, conducted by Consulting and Analytics Club of IIT Guwahati."
   ]
  },
  {
   "cell_type": "markdown",
   "metadata": {},
   "source": [
    "### Problem Statement:\n",
    "\n",
    "You have been provided descriptions of products on Amazon and Flipkart, including details like product title, ratings, reviews, and actual prices. In this challenge, you will predict discounted prices of the listed products based on their ratings and actual prices."
   ]
  },
  {
   "cell_type": "markdown",
   "metadata": {},
   "source": [
    "### Data Description"
   ]
  },
  {
   "cell_type": "markdown",
   "metadata": {},
   "source": [
    "title - Name of the product\n",
    "\n",
    "Rating- average rating given to a product\n",
    "\n",
    "maincateg - category that the product is listed under(men/women)\n",
    "\n",
    "platform - platform on which it is sold on (Eg. Amazon, Flipkart)\n",
    "\n",
    "price1 - Discounted Price of the listed product\n",
    "\n",
    "actprice1 - Actual price of the listed product\n",
    "\n",
    "Offer % - Discount percent\n",
    "\n",
    "norating1 - number of ratings available for a particular product\n",
    "\n",
    "noreviews1 - number of reviews available for a particular product\n",
    "\n",
    "star_5f - number of five star ratings given to a particular product\n",
    "\n",
    "star_4f - number of four star ratings given to a particular product\n",
    "\n",
    "star_3f - number of three star ratings given to a particular product\n",
    "\n",
    "star_2f - number of two star ratings given to a particular product\n",
    "\n",
    "star_1f - number of one star ratings given to a particular product\n",
    "\n",
    "fulfilled1- whether it is Amazon fulfilled or not"
   ]
  },
  {
   "cell_type": "markdown",
   "metadata": {},
   "source": [
    "### Importing modules"
   ]
  },
  {
   "cell_type": "code",
   "execution_count": 30,
   "metadata": {
    "_cell_guid": "b1076dfc-b9ad-4769-8c92-a6c4dae69d19",
    "_uuid": "8f2839f25d086af736a60e9eeb907d3b93b6e0e5",
    "execution": {
     "iopub.execute_input": "2022-07-18T09:53:21.106022Z",
     "iopub.status.busy": "2022-07-18T09:53:21.105518Z",
     "iopub.status.idle": "2022-07-18T09:53:21.122759Z",
     "shell.execute_reply": "2022-07-18T09:53:21.121468Z",
     "shell.execute_reply.started": "2022-07-18T09:53:21.105916Z"
    }
   },
   "outputs": [],
   "source": [
    "import numpy as np # linear algebra\n",
    "import pandas as pd # data processing, CSV file I/O (e.g. pd.read_csv)\n",
    "import seaborn as sns\n",
    "import matplotlib.pyplot as plt\n",
    "from sklearn.preprocessing import StandardScaler\n",
    "from sklearn.ensemble import RandomForestRegressor\n",
    "from xgboost.sklearn import XGBRegressor\n",
    "from sklearn.metrics import mean_squared_error\n",
    "from sklearn.model_selection import RandomizedSearchCV, GridSearchCV\n",
    "import os\n",
    "for dirname, _, filenames in os.walk('/kaggle/input'):\n",
    "    for filename in filenames:\n",
    "        print(os.path.join(dirname, filename))"
   ]
  },
  {
   "cell_type": "markdown",
   "metadata": {},
   "source": [
    "### Reading and exploring Training Data"
   ]
  },
  {
   "cell_type": "code",
   "execution_count": 31,
   "metadata": {
    "execution": {
     "iopub.execute_input": "2022-07-18T09:53:21.138039Z",
     "iopub.status.busy": "2022-07-18T09:53:21.136813Z",
     "iopub.status.idle": "2022-07-18T09:53:21.211295Z",
     "shell.execute_reply": "2022-07-18T09:53:21.210439Z",
     "shell.execute_reply.started": "2022-07-18T09:53:21.137995Z"
    }
   },
   "outputs": [
    {
     "data": {
      "text/html": [
       "<div>\n",
       "<style scoped>\n",
       "    .dataframe tbody tr th:only-of-type {\n",
       "        vertical-align: middle;\n",
       "    }\n",
       "\n",
       "    .dataframe tbody tr th {\n",
       "        vertical-align: top;\n",
       "    }\n",
       "\n",
       "    .dataframe thead th {\n",
       "        text-align: right;\n",
       "    }\n",
       "</style>\n",
       "<table border=\"1\" class=\"dataframe\">\n",
       "  <thead>\n",
       "    <tr style=\"text-align: right;\">\n",
       "      <th></th>\n",
       "      <th>id</th>\n",
       "      <th>title</th>\n",
       "      <th>Rating</th>\n",
       "      <th>maincateg</th>\n",
       "      <th>platform</th>\n",
       "      <th>price1</th>\n",
       "      <th>actprice1</th>\n",
       "      <th>Offer %</th>\n",
       "      <th>norating1</th>\n",
       "      <th>noreviews1</th>\n",
       "      <th>star_5f</th>\n",
       "      <th>star_4f</th>\n",
       "      <th>star_3f</th>\n",
       "      <th>star_2f</th>\n",
       "      <th>star_1f</th>\n",
       "      <th>fulfilled1</th>\n",
       "    </tr>\n",
       "  </thead>\n",
       "  <tbody>\n",
       "    <tr>\n",
       "      <th>0</th>\n",
       "      <td>16695</td>\n",
       "      <td>Fashionable &amp; Comfortable Bellies For Women  (...</td>\n",
       "      <td>3.9</td>\n",
       "      <td>Women</td>\n",
       "      <td>Flipkart</td>\n",
       "      <td>698</td>\n",
       "      <td>999</td>\n",
       "      <td>30.13%</td>\n",
       "      <td>38.0</td>\n",
       "      <td>7.0</td>\n",
       "      <td>17.0</td>\n",
       "      <td>9.0</td>\n",
       "      <td>6.0</td>\n",
       "      <td>3</td>\n",
       "      <td>3</td>\n",
       "      <td>0</td>\n",
       "    </tr>\n",
       "    <tr>\n",
       "      <th>1</th>\n",
       "      <td>5120</td>\n",
       "      <td>Combo Pack of 4 Casual Shoes Sneakers For Men ...</td>\n",
       "      <td>3.8</td>\n",
       "      <td>Men</td>\n",
       "      <td>Flipkart</td>\n",
       "      <td>999</td>\n",
       "      <td>1999</td>\n",
       "      <td>50.03%</td>\n",
       "      <td>531.0</td>\n",
       "      <td>69.0</td>\n",
       "      <td>264.0</td>\n",
       "      <td>92.0</td>\n",
       "      <td>73.0</td>\n",
       "      <td>29</td>\n",
       "      <td>73</td>\n",
       "      <td>1</td>\n",
       "    </tr>\n",
       "    <tr>\n",
       "      <th>2</th>\n",
       "      <td>18391</td>\n",
       "      <td>Cilia Mode Leo Sneakers For Women  (White)</td>\n",
       "      <td>4.4</td>\n",
       "      <td>Women</td>\n",
       "      <td>Flipkart</td>\n",
       "      <td>2749</td>\n",
       "      <td>4999</td>\n",
       "      <td>45.01%</td>\n",
       "      <td>17.0</td>\n",
       "      <td>4.0</td>\n",
       "      <td>11.0</td>\n",
       "      <td>3.0</td>\n",
       "      <td>2.0</td>\n",
       "      <td>1</td>\n",
       "      <td>0</td>\n",
       "      <td>1</td>\n",
       "    </tr>\n",
       "    <tr>\n",
       "      <th>3</th>\n",
       "      <td>495</td>\n",
       "      <td>Men Black Sports Sandal</td>\n",
       "      <td>4.2</td>\n",
       "      <td>Men</td>\n",
       "      <td>Flipkart</td>\n",
       "      <td>518</td>\n",
       "      <td>724</td>\n",
       "      <td>15.85%</td>\n",
       "      <td>46413.0</td>\n",
       "      <td>6229.0</td>\n",
       "      <td>1045.0</td>\n",
       "      <td>12416.0</td>\n",
       "      <td>5352.0</td>\n",
       "      <td>701</td>\n",
       "      <td>4595</td>\n",
       "      <td>1</td>\n",
       "    </tr>\n",
       "    <tr>\n",
       "      <th>4</th>\n",
       "      <td>16408</td>\n",
       "      <td>Men Green Sports Sandal</td>\n",
       "      <td>3.9</td>\n",
       "      <td>Men</td>\n",
       "      <td>Flipkart</td>\n",
       "      <td>1379</td>\n",
       "      <td>2299</td>\n",
       "      <td>40.02%</td>\n",
       "      <td>77.0</td>\n",
       "      <td>3.0</td>\n",
       "      <td>35.0</td>\n",
       "      <td>21.0</td>\n",
       "      <td>7.0</td>\n",
       "      <td>7</td>\n",
       "      <td>7</td>\n",
       "      <td>1</td>\n",
       "    </tr>\n",
       "  </tbody>\n",
       "</table>\n",
       "</div>"
      ],
      "text/plain": [
       "      id                                              title  Rating maincateg  \\\n",
       "0  16695  Fashionable & Comfortable Bellies For Women  (...     3.9     Women   \n",
       "1   5120  Combo Pack of 4 Casual Shoes Sneakers For Men ...     3.8       Men   \n",
       "2  18391         Cilia Mode Leo Sneakers For Women  (White)     4.4     Women   \n",
       "3    495                            Men Black Sports Sandal     4.2       Men   \n",
       "4  16408                            Men Green Sports Sandal     3.9       Men   \n",
       "\n",
       "   platform  price1  actprice1 Offer %  norating1  noreviews1  star_5f  \\\n",
       "0  Flipkart     698        999  30.13%       38.0         7.0     17.0   \n",
       "1  Flipkart     999       1999  50.03%      531.0        69.0    264.0   \n",
       "2  Flipkart    2749       4999  45.01%       17.0         4.0     11.0   \n",
       "3  Flipkart     518        724  15.85%    46413.0      6229.0   1045.0   \n",
       "4  Flipkart    1379       2299  40.02%       77.0         3.0     35.0   \n",
       "\n",
       "   star_4f  star_3f  star_2f  star_1f  fulfilled1  \n",
       "0      9.0      6.0        3        3           0  \n",
       "1     92.0     73.0       29       73           1  \n",
       "2      3.0      2.0        1        0           1  \n",
       "3  12416.0   5352.0      701     4595           1  \n",
       "4     21.0      7.0        7        7           1  "
      ]
     },
     "execution_count": 31,
     "metadata": {},
     "output_type": "execute_result"
    }
   ],
   "source": [
    "df=pd.read_csv(\"train.csv\")\n",
    "df.head()"
   ]
  },
  {
   "cell_type": "code",
   "execution_count": 32,
   "metadata": {
    "execution": {
     "iopub.execute_input": "2022-07-18T09:53:21.213360Z",
     "iopub.status.busy": "2022-07-18T09:53:21.212831Z",
     "iopub.status.idle": "2022-07-18T09:53:21.228696Z",
     "shell.execute_reply": "2022-07-18T09:53:21.227924Z",
     "shell.execute_reply.started": "2022-07-18T09:53:21.213328Z"
    }
   },
   "outputs": [
    {
     "data": {
      "text/plain": [
       "id              0\n",
       "title           0\n",
       "Rating          0\n",
       "maincateg     526\n",
       "platform        0\n",
       "price1          0\n",
       "actprice1       0\n",
       "Offer %         0\n",
       "norating1     678\n",
       "noreviews1    578\n",
       "star_5f       588\n",
       "star_4f       539\n",
       "star_3f       231\n",
       "star_2f         0\n",
       "star_1f         0\n",
       "fulfilled1      0\n",
       "dtype: int64"
      ]
     },
     "execution_count": 32,
     "metadata": {},
     "output_type": "execute_result"
    }
   ],
   "source": [
    "df.isnull().sum()"
   ]
  },
  {
   "cell_type": "code",
   "execution_count": 33,
   "metadata": {},
   "outputs": [
    {
     "data": {
      "text/html": [
       "<div>\n",
       "<style scoped>\n",
       "    .dataframe tbody tr th:only-of-type {\n",
       "        vertical-align: middle;\n",
       "    }\n",
       "\n",
       "    .dataframe tbody tr th {\n",
       "        vertical-align: top;\n",
       "    }\n",
       "\n",
       "    .dataframe thead th {\n",
       "        text-align: right;\n",
       "    }\n",
       "</style>\n",
       "<table border=\"1\" class=\"dataframe\">\n",
       "  <thead>\n",
       "    <tr style=\"text-align: right;\">\n",
       "      <th></th>\n",
       "      <th>id</th>\n",
       "      <th>Rating</th>\n",
       "      <th>price1</th>\n",
       "      <th>actprice1</th>\n",
       "      <th>norating1</th>\n",
       "      <th>noreviews1</th>\n",
       "      <th>star_5f</th>\n",
       "      <th>star_4f</th>\n",
       "      <th>star_3f</th>\n",
       "      <th>star_2f</th>\n",
       "      <th>star_1f</th>\n",
       "      <th>fulfilled1</th>\n",
       "    </tr>\n",
       "  </thead>\n",
       "  <tbody>\n",
       "    <tr>\n",
       "      <th>count</th>\n",
       "      <td>15730.000000</td>\n",
       "      <td>15730.000000</td>\n",
       "      <td>15730.000000</td>\n",
       "      <td>15730.000000</td>\n",
       "      <td>15052.000000</td>\n",
       "      <td>15152.000000</td>\n",
       "      <td>15142.000000</td>\n",
       "      <td>15191.000000</td>\n",
       "      <td>15499.000000</td>\n",
       "      <td>15730.000000</td>\n",
       "      <td>15730.000000</td>\n",
       "      <td>15730.000000</td>\n",
       "    </tr>\n",
       "    <tr>\n",
       "      <th>mean</th>\n",
       "      <td>10479.541577</td>\n",
       "      <td>4.012873</td>\n",
       "      <td>688.070693</td>\n",
       "      <td>1369.286777</td>\n",
       "      <td>3057.660776</td>\n",
       "      <td>423.976307</td>\n",
       "      <td>1585.239466</td>\n",
       "      <td>655.923310</td>\n",
       "      <td>357.260662</td>\n",
       "      <td>155.085188</td>\n",
       "      <td>275.500572</td>\n",
       "      <td>0.601526</td>\n",
       "    </tr>\n",
       "    <tr>\n",
       "      <th>std</th>\n",
       "      <td>6080.166276</td>\n",
       "      <td>0.298440</td>\n",
       "      <td>649.409586</td>\n",
       "      <td>1240.900227</td>\n",
       "      <td>11846.965689</td>\n",
       "      <td>1768.230384</td>\n",
       "      <td>6177.476241</td>\n",
       "      <td>2855.735531</td>\n",
       "      <td>1402.246610</td>\n",
       "      <td>558.650254</td>\n",
       "      <td>958.589075</td>\n",
       "      <td>0.489600</td>\n",
       "    </tr>\n",
       "    <tr>\n",
       "      <th>min</th>\n",
       "      <td>3.000000</td>\n",
       "      <td>0.000000</td>\n",
       "      <td>69.000000</td>\n",
       "      <td>42.000000</td>\n",
       "      <td>1.000000</td>\n",
       "      <td>0.000000</td>\n",
       "      <td>0.000000</td>\n",
       "      <td>0.000000</td>\n",
       "      <td>0.000000</td>\n",
       "      <td>0.000000</td>\n",
       "      <td>0.000000</td>\n",
       "      <td>0.000000</td>\n",
       "    </tr>\n",
       "    <tr>\n",
       "      <th>25%</th>\n",
       "      <td>5212.000000</td>\n",
       "      <td>3.900000</td>\n",
       "      <td>349.000000</td>\n",
       "      <td>699.000000</td>\n",
       "      <td>63.000000</td>\n",
       "      <td>9.000000</td>\n",
       "      <td>30.000000</td>\n",
       "      <td>12.000000</td>\n",
       "      <td>7.000000</td>\n",
       "      <td>3.000000</td>\n",
       "      <td>6.000000</td>\n",
       "      <td>0.000000</td>\n",
       "    </tr>\n",
       "    <tr>\n",
       "      <th>50%</th>\n",
       "      <td>10458.500000</td>\n",
       "      <td>4.000000</td>\n",
       "      <td>474.000000</td>\n",
       "      <td>999.000000</td>\n",
       "      <td>308.000000</td>\n",
       "      <td>44.000000</td>\n",
       "      <td>150.000000</td>\n",
       "      <td>60.000000</td>\n",
       "      <td>34.000000</td>\n",
       "      <td>17.000000</td>\n",
       "      <td>30.000000</td>\n",
       "      <td>1.000000</td>\n",
       "    </tr>\n",
       "    <tr>\n",
       "      <th>75%</th>\n",
       "      <td>15766.750000</td>\n",
       "      <td>4.200000</td>\n",
       "      <td>699.000000</td>\n",
       "      <td>1299.000000</td>\n",
       "      <td>1526.000000</td>\n",
       "      <td>215.000000</td>\n",
       "      <td>788.000000</td>\n",
       "      <td>300.000000</td>\n",
       "      <td>172.000000</td>\n",
       "      <td>77.000000</td>\n",
       "      <td>140.000000</td>\n",
       "      <td>1.000000</td>\n",
       "    </tr>\n",
       "    <tr>\n",
       "      <th>max</th>\n",
       "      <td>20973.000000</td>\n",
       "      <td>5.000000</td>\n",
       "      <td>5998.000000</td>\n",
       "      <td>13499.000000</td>\n",
       "      <td>289973.000000</td>\n",
       "      <td>45448.000000</td>\n",
       "      <td>151193.000000</td>\n",
       "      <td>74037.000000</td>\n",
       "      <td>34978.000000</td>\n",
       "      <td>11705.000000</td>\n",
       "      <td>18060.000000</td>\n",
       "      <td>1.000000</td>\n",
       "    </tr>\n",
       "  </tbody>\n",
       "</table>\n",
       "</div>"
      ],
      "text/plain": [
       "                 id        Rating        price1     actprice1      norating1  \\\n",
       "count  15730.000000  15730.000000  15730.000000  15730.000000   15052.000000   \n",
       "mean   10479.541577      4.012873    688.070693   1369.286777    3057.660776   \n",
       "std     6080.166276      0.298440    649.409586   1240.900227   11846.965689   \n",
       "min        3.000000      0.000000     69.000000     42.000000       1.000000   \n",
       "25%     5212.000000      3.900000    349.000000    699.000000      63.000000   \n",
       "50%    10458.500000      4.000000    474.000000    999.000000     308.000000   \n",
       "75%    15766.750000      4.200000    699.000000   1299.000000    1526.000000   \n",
       "max    20973.000000      5.000000   5998.000000  13499.000000  289973.000000   \n",
       "\n",
       "         noreviews1        star_5f       star_4f       star_3f       star_2f  \\\n",
       "count  15152.000000   15142.000000  15191.000000  15499.000000  15730.000000   \n",
       "mean     423.976307    1585.239466    655.923310    357.260662    155.085188   \n",
       "std     1768.230384    6177.476241   2855.735531   1402.246610    558.650254   \n",
       "min        0.000000       0.000000      0.000000      0.000000      0.000000   \n",
       "25%        9.000000      30.000000     12.000000      7.000000      3.000000   \n",
       "50%       44.000000     150.000000     60.000000     34.000000     17.000000   \n",
       "75%      215.000000     788.000000    300.000000    172.000000     77.000000   \n",
       "max    45448.000000  151193.000000  74037.000000  34978.000000  11705.000000   \n",
       "\n",
       "            star_1f    fulfilled1  \n",
       "count  15730.000000  15730.000000  \n",
       "mean     275.500572      0.601526  \n",
       "std      958.589075      0.489600  \n",
       "min        0.000000      0.000000  \n",
       "25%        6.000000      0.000000  \n",
       "50%       30.000000      1.000000  \n",
       "75%      140.000000      1.000000  \n",
       "max    18060.000000      1.000000  "
      ]
     },
     "execution_count": 33,
     "metadata": {},
     "output_type": "execute_result"
    }
   ],
   "source": [
    "df.describe()"
   ]
  },
  {
   "cell_type": "markdown",
   "metadata": {},
   "source": [
    "## Visualization"
   ]
  },
  {
   "cell_type": "code",
   "execution_count": 36,
   "metadata": {},
   "outputs": [
    {
     "data": {
      "image/png": "[encoded data removed]",
      "text/plain": [
       "<Figure size 1440x1080 with 12 Axes>"
      ]
     },
     "metadata": {
      "needs_background": "light"
     },
     "output_type": "display_data"
    }
   ],
   "source": [
    "#representing features in histogam form:\n",
    "df.hist(color='gray',figsize=(20,15))\n",
    "plt.show()"
   ]
  },
  {
   "cell_type": "markdown",
   "metadata": {},
   "source": [
    "### Feature Selection"
   ]
  },
  {
   "cell_type": "code",
   "execution_count": 37,
   "metadata": {
    "execution": {
     "iopub.execute_input": "2022-07-18T09:53:21.230298Z",
     "iopub.status.busy": "2022-07-18T09:53:21.229960Z",
     "iopub.status.idle": "2022-07-18T09:53:22.523954Z",
     "shell.execute_reply": "2022-07-18T09:53:22.522569Z",
     "shell.execute_reply.started": "2022-07-18T09:53:21.230268Z"
    }
   },
   "outputs": [
    {
     "data": {
      "text/plain": [
       "<AxesSubplot:>"
      ]
     },
     "execution_count": 37,
     "metadata": {},
     "output_type": "execute_result"
    },
    {
     "data": {
      "image/png": "[encoded data removed]",
      "text/plain": [
       "<Figure size 1080x1080 with 2 Axes>"
      ]
     },
     "metadata": {
      "needs_background": "light"
     },
     "output_type": "display_data"
    }
   ],
   "source": [
    "plt.figure(figsize=(15,15))\n",
    "sns.heatmap((df.corr()>0.85),annot=True)"
   ]
  },
  {
   "cell_type": "code",
   "execution_count": 38,
   "metadata": {
    "execution": {
     "iopub.execute_input": "2022-07-18T09:53:22.527466Z",
     "iopub.status.busy": "2022-07-18T09:53:22.527077Z",
     "iopub.status.idle": "2022-07-18T09:53:22.550568Z",
     "shell.execute_reply": "2022-07-18T09:53:22.549246Z",
     "shell.execute_reply.started": "2022-07-18T09:53:22.527433Z"
    }
   },
   "outputs": [
    {
     "data": {
      "text/plain": [
       "id            15730\n",
       "title          4782\n",
       "Rating           34\n",
       "maincateg         2\n",
       "platform          2\n",
       "price1         1478\n",
       "actprice1       885\n",
       "Offer %        2530\n",
       "norating1      2770\n",
       "noreviews1     1122\n",
       "star_5f        2196\n",
       "star_4f        1448\n",
       "star_3f        1107\n",
       "star_2f         759\n",
       "star_1f        1001\n",
       "fulfilled1        2\n",
       "dtype: int64"
      ]
     },
     "execution_count": 38,
     "metadata": {},
     "output_type": "execute_result"
    }
   ],
   "source": [
    "df.nunique()"
   ]
  },
  {
   "cell_type": "markdown",
   "metadata": {},
   "source": [
    "### One Hot Encoding"
   ]
  },
  {
   "cell_type": "code",
   "execution_count": 39,
   "metadata": {
    "execution": {
     "iopub.execute_input": "2022-07-18T09:53:22.552452Z",
     "iopub.status.busy": "2022-07-18T09:53:22.552098Z",
     "iopub.status.idle": "2022-07-18T09:53:22.587796Z",
     "shell.execute_reply": "2022-07-18T09:53:22.586647Z",
     "shell.execute_reply.started": "2022-07-18T09:53:22.552419Z"
    }
   },
   "outputs": [
    {
     "data": {
      "text/html": [
       "<div>\n",
       "<style scoped>\n",
       "    .dataframe tbody tr th:only-of-type {\n",
       "        vertical-align: middle;\n",
       "    }\n",
       "\n",
       "    .dataframe tbody tr th {\n",
       "        vertical-align: top;\n",
       "    }\n",
       "\n",
       "    .dataframe thead th {\n",
       "        text-align: right;\n",
       "    }\n",
       "</style>\n",
       "<table border=\"1\" class=\"dataframe\">\n",
       "  <thead>\n",
       "    <tr style=\"text-align: right;\">\n",
       "      <th></th>\n",
       "      <th>Rating</th>\n",
       "      <th>actprice1</th>\n",
       "      <th>norating1</th>\n",
       "      <th>fulfilled1</th>\n",
       "      <th>maincateg_Men</th>\n",
       "      <th>maincateg_Women</th>\n",
       "      <th>platform_Amazon</th>\n",
       "      <th>platform_Flipkart</th>\n",
       "    </tr>\n",
       "  </thead>\n",
       "  <tbody>\n",
       "    <tr>\n",
       "      <th>0</th>\n",
       "      <td>3.9</td>\n",
       "      <td>999</td>\n",
       "      <td>38.0</td>\n",
       "      <td>0</td>\n",
       "      <td>0</td>\n",
       "      <td>1</td>\n",
       "      <td>0</td>\n",
       "      <td>1</td>\n",
       "    </tr>\n",
       "    <tr>\n",
       "      <th>1</th>\n",
       "      <td>3.8</td>\n",
       "      <td>1999</td>\n",
       "      <td>531.0</td>\n",
       "      <td>1</td>\n",
       "      <td>1</td>\n",
       "      <td>0</td>\n",
       "      <td>0</td>\n",
       "      <td>1</td>\n",
       "    </tr>\n",
       "    <tr>\n",
       "      <th>2</th>\n",
       "      <td>4.4</td>\n",
       "      <td>4999</td>\n",
       "      <td>17.0</td>\n",
       "      <td>1</td>\n",
       "      <td>0</td>\n",
       "      <td>1</td>\n",
       "      <td>0</td>\n",
       "      <td>1</td>\n",
       "    </tr>\n",
       "    <tr>\n",
       "      <th>3</th>\n",
       "      <td>4.2</td>\n",
       "      <td>724</td>\n",
       "      <td>46413.0</td>\n",
       "      <td>1</td>\n",
       "      <td>1</td>\n",
       "      <td>0</td>\n",
       "      <td>0</td>\n",
       "      <td>1</td>\n",
       "    </tr>\n",
       "    <tr>\n",
       "      <th>4</th>\n",
       "      <td>3.9</td>\n",
       "      <td>2299</td>\n",
       "      <td>77.0</td>\n",
       "      <td>1</td>\n",
       "      <td>1</td>\n",
       "      <td>0</td>\n",
       "      <td>0</td>\n",
       "      <td>1</td>\n",
       "    </tr>\n",
       "    <tr>\n",
       "      <th>5</th>\n",
       "      <td>4.1</td>\n",
       "      <td>499</td>\n",
       "      <td>274.0</td>\n",
       "      <td>0</td>\n",
       "      <td>0</td>\n",
       "      <td>1</td>\n",
       "      <td>0</td>\n",
       "      <td>1</td>\n",
       "    </tr>\n",
       "    <tr>\n",
       "      <th>6</th>\n",
       "      <td>4.0</td>\n",
       "      <td>999</td>\n",
       "      <td>249.0</td>\n",
       "      <td>1</td>\n",
       "      <td>0</td>\n",
       "      <td>1</td>\n",
       "      <td>0</td>\n",
       "      <td>1</td>\n",
       "    </tr>\n",
       "    <tr>\n",
       "      <th>7</th>\n",
       "      <td>3.9</td>\n",
       "      <td>1299</td>\n",
       "      <td>121.0</td>\n",
       "      <td>0</td>\n",
       "      <td>0</td>\n",
       "      <td>1</td>\n",
       "      <td>0</td>\n",
       "      <td>1</td>\n",
       "    </tr>\n",
       "    <tr>\n",
       "      <th>8</th>\n",
       "      <td>4.2</td>\n",
       "      <td>999</td>\n",
       "      <td>191.0</td>\n",
       "      <td>1</td>\n",
       "      <td>0</td>\n",
       "      <td>1</td>\n",
       "      <td>0</td>\n",
       "      <td>1</td>\n",
       "    </tr>\n",
       "    <tr>\n",
       "      <th>9</th>\n",
       "      <td>4.1</td>\n",
       "      <td>899</td>\n",
       "      <td>36126.0</td>\n",
       "      <td>0</td>\n",
       "      <td>1</td>\n",
       "      <td>0</td>\n",
       "      <td>0</td>\n",
       "      <td>1</td>\n",
       "    </tr>\n",
       "  </tbody>\n",
       "</table>\n",
       "</div>"
      ],
      "text/plain": [
       "   Rating  actprice1  norating1  fulfilled1  maincateg_Men  maincateg_Women  \\\n",
       "0     3.9        999       38.0           0              0                1   \n",
       "1     3.8       1999      531.0           1              1                0   \n",
       "2     4.4       4999       17.0           1              0                1   \n",
       "3     4.2        724    46413.0           1              1                0   \n",
       "4     3.9       2299       77.0           1              1                0   \n",
       "5     4.1        499      274.0           0              0                1   \n",
       "6     4.0        999      249.0           1              0                1   \n",
       "7     3.9       1299      121.0           0              0                1   \n",
       "8     4.2        999      191.0           1              0                1   \n",
       "9     4.1        899    36126.0           0              1                0   \n",
       "\n",
       "   platform_Amazon  platform_Flipkart  \n",
       "0                0                  1  \n",
       "1                0                  1  \n",
       "2                0                  1  \n",
       "3                0                  1  \n",
       "4                0                  1  \n",
       "5                0                  1  \n",
       "6                0                  1  \n",
       "7                0                  1  \n",
       "8                0                  1  \n",
       "9                0                  1  "
      ]
     },
     "execution_count": 39,
     "metadata": {},
     "output_type": "execute_result"
    }
   ],
   "source": [
    "X=df.drop(columns=['id','title','price1','Offer %'])\n",
    "X['maincateg'].fillna(X['maincateg'].mode()[0], inplace=True)\n",
    "X['fulfilled1'].fillna(X['fulfilled1'].mode()[0], inplace=True)\n",
    "X['norating1'] = X['norating1'].fillna(0)\n",
    "X=X.drop(columns=['noreviews1','star_5f','star_4f','star_3f','star_2f','star_1f'])\n",
    "X=pd.get_dummies(X, columns = ['maincateg','platform'])\n",
    "X.head(10)"
   ]
  },
  {
   "cell_type": "code",
   "execution_count": 40,
   "metadata": {
    "execution": {
     "iopub.execute_input": "2022-07-18T09:53:22.589701Z",
     "iopub.status.busy": "2022-07-18T09:53:22.589338Z",
     "iopub.status.idle": "2022-07-18T09:53:22.642376Z",
     "shell.execute_reply": "2022-07-18T09:53:22.641207Z",
     "shell.execute_reply.started": "2022-07-18T09:53:22.589668Z"
    }
   },
   "outputs": [],
   "source": [
    "scaler = StandardScaler().fit(X)\n",
    "X = scaler.transform(X)"
   ]
  },
  {
   "cell_type": "code",
   "execution_count": 41,
   "metadata": {
    "execution": {
     "iopub.execute_input": "2022-07-18T09:53:22.644786Z",
     "iopub.status.busy": "2022-07-18T09:53:22.644320Z",
     "iopub.status.idle": "2022-07-18T09:53:22.652481Z",
     "shell.execute_reply": "2022-07-18T09:53:22.651194Z",
     "shell.execute_reply.started": "2022-07-18T09:53:22.644740Z"
    }
   },
   "outputs": [
    {
     "data": {
      "text/plain": [
       "(15730, 8)"
      ]
     },
     "execution_count": 41,
     "metadata": {},
     "output_type": "execute_result"
    }
   ],
   "source": [
    "X.shape"
   ]
  },
  {
   "cell_type": "code",
   "execution_count": 42,
   "metadata": {
    "execution": {
     "iopub.execute_input": "2022-07-18T09:53:22.654526Z",
     "iopub.status.busy": "2022-07-18T09:53:22.654194Z",
     "iopub.status.idle": "2022-07-18T09:53:22.663414Z",
     "shell.execute_reply": "2022-07-18T09:53:22.662422Z",
     "shell.execute_reply.started": "2022-07-18T09:53:22.654496Z"
    }
   },
   "outputs": [],
   "source": [
    "y=df['price1']"
   ]
  },
  {
   "cell_type": "markdown",
   "metadata": {},
   "source": [
    "### 1]RandomForestRegressor"
   ]
  },
  {
   "cell_type": "markdown",
   "metadata": {},
   "source": [
    "#### HyperParameterTuning:"
   ]
  },
  {
   "cell_type": "code",
   "execution_count": 43,
   "metadata": {},
   "outputs": [
    {
     "name": "stdout",
     "output_type": "stream",
     "text": [
      "Fitting 5 folds for each of 100 candidates, totalling 500 fits\n"
     ]
    },
    {
     "data": {
      "text/plain": [
       "RandomizedSearchCV(cv=5, estimator=RandomForestRegressor(), n_iter=100,\n",
       "                   n_jobs=-1,\n",
       "                   param_distributions={'bootstrap': [True, False],\n",
       "                                        'max_depth': [10, 20, 30, 40, 50, 60,\n",
       "                                                      70, 80, 90, 100, 110,\n",
       "                                                      120],\n",
       "                                        'max_features': ['auto', 'sqrt'],\n",
       "                                        'min_samples_leaf': [1, 3, 4],\n",
       "                                        'min_samples_split': [2, 6, 10],\n",
       "                                        'n_estimators': [5, 20, 50, 100]},\n",
       "                   random_state=35, verbose=2)"
      ]
     },
     "execution_count": 43,
     "metadata": {},
     "output_type": "execute_result"
    }
   ],
   "source": [
    "n_estimators = [5,20,50,100] # number of trees in the random forest\n",
    "max_features = ['auto', 'sqrt'] # number of features in consideration at every split\n",
    "max_depth = [int(x) for x in np.linspace(10, 120, num = 12)] # maximum number of levels allowed in each decision tree\n",
    "min_samples_split = [2, 6, 10] # minimum sample number to split a node\n",
    "min_samples_leaf = [1, 3, 4] # minimum sample number that can be stored in a leaf node\n",
    "bootstrap = [True, False] # method used to sample data points\n",
    "\n",
    "random_grid = {'n_estimators': n_estimators,\n",
    "\n",
    "'max_features': max_features,\n",
    "\n",
    "'max_depth': max_depth,\n",
    "\n",
    "'min_samples_split': min_samples_split,\n",
    "\n",
    "'min_samples_leaf': min_samples_leaf,\n",
    "\n",
    "'bootstrap': bootstrap}\n",
    "\n",
    "## Importing Random Forest Classifier from the sklearn.ensemble\n",
    "rf = RandomForestRegressor()\n",
    "rf_random = RandomizedSearchCV(estimator = rf,param_distributions = random_grid,\n",
    "               n_iter = 100, cv = 5, verbose=2, random_state=35, n_jobs = -1)\n",
    "rf_random.fit(X, y)"
   ]
  },
  {
   "cell_type": "markdown",
   "metadata": {},
   "source": [
    "Finding best parameters that suits our model:"
   ]
  },
  {
   "cell_type": "code",
   "execution_count": 44,
   "metadata": {},
   "outputs": [
    {
     "name": "stdout",
     "output_type": "stream",
     "text": [
      "Random grid:  {'n_estimators': [5, 20, 50, 100], 'max_features': ['auto', 'sqrt'], 'max_depth': [10, 20, 30, 40, 50, 60, 70, 80, 90, 100, 110, 120], 'min_samples_split': [2, 6, 10], 'min_samples_leaf': [1, 3, 4], 'bootstrap': [True, False]} \n",
      "\n",
      "Best Parameters:  {'n_estimators': 100, 'min_samples_split': 2, 'min_samples_leaf': 1, 'max_features': 'sqrt', 'max_depth': 120, 'bootstrap': True}  \n",
      "\n"
     ]
    }
   ],
   "source": [
    "print ('Random grid: ', random_grid, '\\n')\n",
    "# print the best parameters\n",
    "print ('Best Parameters: ', rf_random.best_params_, ' \\n')"
   ]
  },
  {
   "cell_type": "code",
   "execution_count": 45,
   "metadata": {},
   "outputs": [
    {
     "data": {
      "text/plain": [
       "RandomForestRegressor(max_depth=120, max_features='sqrt')"
      ]
     },
     "execution_count": 45,
     "metadata": {},
     "output_type": "execute_result"
    }
   ],
   "source": [
    "randmf = RandomForestRegressor(n_estimators= 100, min_samples_split= 2, min_samples_leaf= 1, max_features= 'sqrt', max_depth= 120, bootstrap= True) \n",
    "randmf.fit( X, y) "
   ]
  },
  {
   "cell_type": "markdown",
   "metadata": {},
   "source": [
    "### 2] XGBoostRegressor"
   ]
  },
  {
   "cell_type": "markdown",
   "metadata": {},
   "source": [
    "#### HyperParameterTuning:"
   ]
  },
  {
   "cell_type": "code",
   "execution_count": 46,
   "metadata": {
    "execution": {
     "iopub.execute_input": "2022-07-18T09:53:22.665482Z",
     "iopub.status.busy": "2022-07-18T09:53:22.664862Z",
     "iopub.status.idle": "2022-07-18T09:53:23.645723Z",
     "shell.execute_reply": "2022-07-18T09:53:23.644813Z",
     "shell.execute_reply.started": "2022-07-18T09:53:22.665449Z"
    }
   },
   "outputs": [],
   "source": [
    "regressor=XGBRegressor()\n",
    "booster=['gbtree','gblinear']\n",
    "base_score=[0.25,0.5,0.75,1]\n",
    "## Hyper Parameter Optimization\n",
    "\n",
    "\n",
    "n_estimators = [100, 500, 900, 1100, 1500]\n",
    "max_depth = [2, 3, 5, 10, 15]\n",
    "booster=['gbtree','gblinear']\n",
    "learning_rate=[0.05,0.1,0.15,0.20]\n",
    "min_child_weight=[1,2,3,4]\n",
    "\n",
    "# Define the grid of hyperparameters to search\n",
    "hyperparameter_grid = {\n",
    "    'n_estimators': n_estimators,\n",
    "    'max_depth':max_depth,\n",
    "    'learning_rate':learning_rate,\n",
    "    'min_child_weight':min_child_weight,\n",
    "    'booster':booster,\n",
    "    'base_score':base_score\n",
    "    }\n"
   ]
  },
  {
   "cell_type": "code",
   "execution_count": 16,
   "metadata": {},
   "outputs": [
    {
     "name": "stdout",
     "output_type": "stream",
     "text": [
      "Fitting 5 folds for each of 100 candidates, totalling 500 fits\n"
     ]
    },
    {
     "data": {
      "text/plain": [
       "RandomizedSearchCV(cv=5,\n",
       "                   estimator=XGBRegressor(base_score=None, booster=None,\n",
       "                                          colsample_bylevel=None,\n",
       "                                          colsample_bynode=None,\n",
       "                                          colsample_bytree=None,\n",
       "                                          enable_categorical=False, gamma=None,\n",
       "                                          gpu_id=None, importance_type=None,\n",
       "                                          interaction_constraints=None,\n",
       "                                          learning_rate=None,\n",
       "                                          max_delta_step=None, max_depth=None,\n",
       "                                          min_child_weight=None, missing=nan,\n",
       "                                          monotone_constraints=...\n",
       "                                          validate_parameters=None,\n",
       "                                          verbosity=None),\n",
       "                   n_iter=100, n_jobs=4,\n",
       "                   param_distributions={'base_score': [0.25, 0.5, 0.75, 1],\n",
       "                                        'booster': ['gbtree', 'gblinear'],\n",
       "                                        'learning_rate': [0.05, 0.1, 0.15, 0.2],\n",
       "                                        'max_depth': [2, 3, 5, 10, 15],\n",
       "                                        'min_child_weight': [1, 2, 3, 4],\n",
       "                                        'n_estimators': [100, 500, 900, 1100,\n",
       "                                                         1500]},\n",
       "                   random_state=42, return_train_score=True,\n",
       "                   scoring='neg_mean_absolute_error', verbose=5)"
      ]
     },
     "execution_count": 16,
     "metadata": {},
     "output_type": "execute_result"
    }
   ],
   "source": [
    "# Set up the random search with 4-fold cross validation\n",
    "random_cv = RandomizedSearchCV(estimator=regressor,\n",
    "            param_distributions=hyperparameter_grid,\n",
    "            cv=5, n_iter=100,\n",
    "            scoring = 'neg_mean_absolute_error',n_jobs = 4,\n",
    "            verbose = 5, \n",
    "            return_train_score = True,\n",
    "            random_state=42)\n",
    "random_cv.fit(X,y)"
   ]
  },
  {
   "cell_type": "code",
   "execution_count": 17,
   "metadata": {},
   "outputs": [
    {
     "data": {
      "text/plain": [
       "XGBRegressor(base_score=0.25, booster='gbtree', colsample_bylevel=1,\n",
       "             colsample_bynode=1, colsample_bytree=1, enable_categorical=False,\n",
       "             gamma=0, gpu_id=-1, importance_type=None,\n",
       "             interaction_constraints='', learning_rate=0.15, max_delta_step=0,\n",
       "             max_depth=15, min_child_weight=2, missing=nan,\n",
       "             monotone_constraints='()', n_estimators=1500, n_jobs=4,\n",
       "             num_parallel_tree=1, predictor='auto', random_state=0, reg_alpha=0,\n",
       "             reg_lambda=1, scale_pos_weight=1, subsample=1, tree_method='exact',\n",
       "             validate_parameters=1, verbosity=None)"
      ]
     },
     "execution_count": 17,
     "metadata": {},
     "output_type": "execute_result"
    }
   ],
   "source": [
    "random_cv.best_estimator_"
   ]
  },
  {
   "cell_type": "code",
   "execution_count": 47,
   "metadata": {},
   "outputs": [
    {
     "data": {
      "text/plain": [
       "XGBRegressor(base_score=0.25, booster='gbtree', colsample_bylevel=1,\n",
       "             colsample_bynode=1, colsample_bytree=1, enable_categorical=False,\n",
       "             gamma=0, gpu_id=-1, importance_type=None,\n",
       "             interaction_constraints='', learning_rate=0.15, max_delta_step=0,\n",
       "             max_depth=15, min_child_weight=2, missing=nan,\n",
       "             monotone_constraints='()', n_estimators=1500, n_jobs=4,\n",
       "             num_parallel_tree=1, predictor='auto', random_state=0, reg_alpha=0,\n",
       "             reg_lambda=1, scale_pos_weight=1, subsample=1, tree_method='exact',\n",
       "             validate_parameters=1, verbosity=None)"
      ]
     },
     "execution_count": 47,
     "metadata": {},
     "output_type": "execute_result"
    }
   ],
   "source": [
    "model_XGB =XGBRegressor(base_score=0.25, booster='gbtree', colsample_bylevel=1,\n",
    "             colsample_bynode=1, colsample_bytree=1, enable_categorical=False,\n",
    "             gamma=0, gpu_id=-1, importance_type=None,\n",
    "             interaction_constraints='', learning_rate=0.15, max_delta_step=0,\n",
    "             max_depth=15, min_child_weight=2, \n",
    "             monotone_constraints='()', n_estimators=1500, n_jobs=4,\n",
    "             num_parallel_tree=1, predictor='auto', random_state=0, reg_alpha=0,\n",
    "             reg_lambda=1, scale_pos_weight=1, subsample=1, tree_method='exact',\n",
    "             validate_parameters=1, verbosity=None).fit(X, y)\n",
    "model_XGB.fit(X,y)\n"
   ]
  },
  {
   "cell_type": "markdown",
   "metadata": {},
   "source": [
    "### Reading and Exploring Test Data"
   ]
  },
  {
   "cell_type": "code",
   "execution_count": 48,
   "metadata": {
    "execution": {
     "iopub.execute_input": "2022-07-18T09:53:23.650153Z",
     "iopub.status.busy": "2022-07-18T09:53:23.649372Z",
     "iopub.status.idle": "2022-07-18T09:53:23.689109Z",
     "shell.execute_reply": "2022-07-18T09:53:23.687962Z",
     "shell.execute_reply.started": "2022-07-18T09:53:23.650113Z"
    }
   },
   "outputs": [
    {
     "data": {
      "text/html": [
       "<div>\n",
       "<style scoped>\n",
       "    .dataframe tbody tr th:only-of-type {\n",
       "        vertical-align: middle;\n",
       "    }\n",
       "\n",
       "    .dataframe tbody tr th {\n",
       "        vertical-align: top;\n",
       "    }\n",
       "\n",
       "    .dataframe thead th {\n",
       "        text-align: right;\n",
       "    }\n",
       "</style>\n",
       "<table border=\"1\" class=\"dataframe\">\n",
       "  <thead>\n",
       "    <tr style=\"text-align: right;\">\n",
       "      <th></th>\n",
       "      <th>id</th>\n",
       "      <th>title</th>\n",
       "      <th>Rating</th>\n",
       "      <th>maincateg</th>\n",
       "      <th>platform</th>\n",
       "      <th>actprice1</th>\n",
       "      <th>norating1</th>\n",
       "      <th>noreviews1</th>\n",
       "      <th>star_5f</th>\n",
       "      <th>star_4f</th>\n",
       "      <th>star_3f</th>\n",
       "      <th>star_2f</th>\n",
       "      <th>star_1f</th>\n",
       "      <th>fulfilled1</th>\n",
       "    </tr>\n",
       "  </thead>\n",
       "  <tbody>\n",
       "    <tr>\n",
       "      <th>0</th>\n",
       "      <td>2242</td>\n",
       "      <td>Casuals For Men  (Blue)</td>\n",
       "      <td>3.8</td>\n",
       "      <td>Men</td>\n",
       "      <td>Flipkart</td>\n",
       "      <td>999</td>\n",
       "      <td>27928</td>\n",
       "      <td>3543</td>\n",
       "      <td>14238.0</td>\n",
       "      <td>4295</td>\n",
       "      <td>3457</td>\n",
       "      <td>1962</td>\n",
       "      <td>3976.0</td>\n",
       "      <td>1</td>\n",
       "    </tr>\n",
       "    <tr>\n",
       "      <th>1</th>\n",
       "      <td>20532</td>\n",
       "      <td>Women Black Flats Sandal</td>\n",
       "      <td>3.9</td>\n",
       "      <td>Women</td>\n",
       "      <td>Flipkart</td>\n",
       "      <td>499</td>\n",
       "      <td>3015</td>\n",
       "      <td>404</td>\n",
       "      <td>1458.0</td>\n",
       "      <td>657</td>\n",
       "      <td>397</td>\n",
       "      <td>182</td>\n",
       "      <td>321.0</td>\n",
       "      <td>1</td>\n",
       "    </tr>\n",
       "    <tr>\n",
       "      <th>2</th>\n",
       "      <td>10648</td>\n",
       "      <td>Women Gold Wedges Sandal</td>\n",
       "      <td>3.9</td>\n",
       "      <td>Women</td>\n",
       "      <td>Flipkart</td>\n",
       "      <td>999</td>\n",
       "      <td>449</td>\n",
       "      <td>52</td>\n",
       "      <td>229.0</td>\n",
       "      <td>70</td>\n",
       "      <td>71</td>\n",
       "      <td>33</td>\n",
       "      <td>46.0</td>\n",
       "      <td>1</td>\n",
       "    </tr>\n",
       "    <tr>\n",
       "      <th>3</th>\n",
       "      <td>20677</td>\n",
       "      <td>Men's Height Increasing High Heel Formal Party...</td>\n",
       "      <td>3.9</td>\n",
       "      <td>Men</td>\n",
       "      <td>Flipkart</td>\n",
       "      <td>2999</td>\n",
       "      <td>290</td>\n",
       "      <td>40</td>\n",
       "      <td>141.0</td>\n",
       "      <td>51</td>\n",
       "      <td>49</td>\n",
       "      <td>17</td>\n",
       "      <td>32.0</td>\n",
       "      <td>1</td>\n",
       "    </tr>\n",
       "    <tr>\n",
       "      <th>4</th>\n",
       "      <td>12593</td>\n",
       "      <td>Loafers For Men  (Tan)</td>\n",
       "      <td>3.9</td>\n",
       "      <td>Men</td>\n",
       "      <td>Flipkart</td>\n",
       "      <td>999</td>\n",
       "      <td>2423</td>\n",
       "      <td>326</td>\n",
       "      <td>1265.0</td>\n",
       "      <td>414</td>\n",
       "      <td>293</td>\n",
       "      <td>143</td>\n",
       "      <td>308.0</td>\n",
       "      <td>0</td>\n",
       "    </tr>\n",
       "  </tbody>\n",
       "</table>\n",
       "</div>"
      ],
      "text/plain": [
       "      id                                              title  Rating maincateg  \\\n",
       "0   2242                            Casuals For Men  (Blue)     3.8       Men   \n",
       "1  20532                           Women Black Flats Sandal     3.9     Women   \n",
       "2  10648                           Women Gold Wedges Sandal     3.9     Women   \n",
       "3  20677  Men's Height Increasing High Heel Formal Party...     3.9       Men   \n",
       "4  12593                             Loafers For Men  (Tan)     3.9       Men   \n",
       "\n",
       "   platform  actprice1  norating1  noreviews1  star_5f  star_4f  star_3f  \\\n",
       "0  Flipkart        999      27928        3543  14238.0     4295     3457   \n",
       "1  Flipkart        499       3015         404   1458.0      657      397   \n",
       "2  Flipkart        999        449          52    229.0       70       71   \n",
       "3  Flipkart       2999        290          40    141.0       51       49   \n",
       "4  Flipkart        999       2423         326   1265.0      414      293   \n",
       "\n",
       "   star_2f  star_1f  fulfilled1  \n",
       "0     1962   3976.0           1  \n",
       "1      182    321.0           1  \n",
       "2       33     46.0           1  \n",
       "3       17     32.0           1  \n",
       "4      143    308.0           0  "
      ]
     },
     "execution_count": 48,
     "metadata": {},
     "output_type": "execute_result"
    }
   ],
   "source": [
    "df_test=pd.read_csv('test.csv')\n",
    "df_test.head()"
   ]
  },
  {
   "cell_type": "code",
   "execution_count": 49,
   "metadata": {
    "execution": {
     "iopub.execute_input": "2022-07-18T09:53:23.690784Z",
     "iopub.status.busy": "2022-07-18T09:53:23.690467Z",
     "iopub.status.idle": "2022-07-18T09:53:23.703317Z",
     "shell.execute_reply": "2022-07-18T09:53:23.701957Z",
     "shell.execute_reply.started": "2022-07-18T09:53:23.690756Z"
    }
   },
   "outputs": [
    {
     "data": {
      "text/plain": [
       "id              0\n",
       "title           0\n",
       "Rating        203\n",
       "maincateg      67\n",
       "platform        0\n",
       "actprice1       0\n",
       "norating1       0\n",
       "noreviews1      0\n",
       "star_5f        68\n",
       "star_4f         0\n",
       "star_3f         0\n",
       "star_2f         0\n",
       "star_1f       186\n",
       "fulfilled1      0\n",
       "dtype: int64"
      ]
     },
     "execution_count": 49,
     "metadata": {},
     "output_type": "execute_result"
    }
   ],
   "source": [
    "df_test.isnull().sum()"
   ]
  },
  {
   "cell_type": "code",
   "execution_count": 50,
   "metadata": {
    "execution": {
     "iopub.execute_input": "2022-07-18T09:53:23.705390Z",
     "iopub.status.busy": "2022-07-18T09:53:23.704443Z",
     "iopub.status.idle": "2022-07-18T09:53:23.726775Z",
     "shell.execute_reply": "2022-07-18T09:53:23.725512Z",
     "shell.execute_reply.started": "2022-07-18T09:53:23.705351Z"
    }
   },
   "outputs": [
    {
     "data": {
      "text/html": [
       "<div>\n",
       "<style scoped>\n",
       "    .dataframe tbody tr th:only-of-type {\n",
       "        vertical-align: middle;\n",
       "    }\n",
       "\n",
       "    .dataframe tbody tr th {\n",
       "        vertical-align: top;\n",
       "    }\n",
       "\n",
       "    .dataframe thead th {\n",
       "        text-align: right;\n",
       "    }\n",
       "</style>\n",
       "<table border=\"1\" class=\"dataframe\">\n",
       "  <thead>\n",
       "    <tr style=\"text-align: right;\">\n",
       "      <th></th>\n",
       "      <th>id</th>\n",
       "      <th>title</th>\n",
       "      <th>Rating</th>\n",
       "      <th>maincateg</th>\n",
       "      <th>platform</th>\n",
       "      <th>price1</th>\n",
       "      <th>actprice1</th>\n",
       "      <th>Offer %</th>\n",
       "      <th>norating1</th>\n",
       "      <th>noreviews1</th>\n",
       "      <th>star_5f</th>\n",
       "      <th>star_4f</th>\n",
       "      <th>star_3f</th>\n",
       "      <th>star_2f</th>\n",
       "      <th>star_1f</th>\n",
       "      <th>fulfilled1</th>\n",
       "    </tr>\n",
       "  </thead>\n",
       "  <tbody>\n",
       "    <tr>\n",
       "      <th>0</th>\n",
       "      <td>16695</td>\n",
       "      <td>Fashionable &amp; Comfortable Bellies For Women  (...</td>\n",
       "      <td>3.9</td>\n",
       "      <td>Women</td>\n",
       "      <td>Flipkart</td>\n",
       "      <td>698</td>\n",
       "      <td>999</td>\n",
       "      <td>30.13%</td>\n",
       "      <td>38.0</td>\n",
       "      <td>7.0</td>\n",
       "      <td>17.0</td>\n",
       "      <td>9.0</td>\n",
       "      <td>6.0</td>\n",
       "      <td>3</td>\n",
       "      <td>3</td>\n",
       "      <td>0</td>\n",
       "    </tr>\n",
       "    <tr>\n",
       "      <th>1</th>\n",
       "      <td>5120</td>\n",
       "      <td>Combo Pack of 4 Casual Shoes Sneakers For Men ...</td>\n",
       "      <td>3.8</td>\n",
       "      <td>Men</td>\n",
       "      <td>Flipkart</td>\n",
       "      <td>999</td>\n",
       "      <td>1999</td>\n",
       "      <td>50.03%</td>\n",
       "      <td>531.0</td>\n",
       "      <td>69.0</td>\n",
       "      <td>264.0</td>\n",
       "      <td>92.0</td>\n",
       "      <td>73.0</td>\n",
       "      <td>29</td>\n",
       "      <td>73</td>\n",
       "      <td>1</td>\n",
       "    </tr>\n",
       "    <tr>\n",
       "      <th>2</th>\n",
       "      <td>18391</td>\n",
       "      <td>Cilia Mode Leo Sneakers For Women  (White)</td>\n",
       "      <td>4.4</td>\n",
       "      <td>Women</td>\n",
       "      <td>Flipkart</td>\n",
       "      <td>2749</td>\n",
       "      <td>4999</td>\n",
       "      <td>45.01%</td>\n",
       "      <td>17.0</td>\n",
       "      <td>4.0</td>\n",
       "      <td>11.0</td>\n",
       "      <td>3.0</td>\n",
       "      <td>2.0</td>\n",
       "      <td>1</td>\n",
       "      <td>0</td>\n",
       "      <td>1</td>\n",
       "    </tr>\n",
       "    <tr>\n",
       "      <th>3</th>\n",
       "      <td>495</td>\n",
       "      <td>Men Black Sports Sandal</td>\n",
       "      <td>4.2</td>\n",
       "      <td>Men</td>\n",
       "      <td>Flipkart</td>\n",
       "      <td>518</td>\n",
       "      <td>724</td>\n",
       "      <td>15.85%</td>\n",
       "      <td>46413.0</td>\n",
       "      <td>6229.0</td>\n",
       "      <td>1045.0</td>\n",
       "      <td>12416.0</td>\n",
       "      <td>5352.0</td>\n",
       "      <td>701</td>\n",
       "      <td>4595</td>\n",
       "      <td>1</td>\n",
       "    </tr>\n",
       "    <tr>\n",
       "      <th>4</th>\n",
       "      <td>16408</td>\n",
       "      <td>Men Green Sports Sandal</td>\n",
       "      <td>3.9</td>\n",
       "      <td>Men</td>\n",
       "      <td>Flipkart</td>\n",
       "      <td>1379</td>\n",
       "      <td>2299</td>\n",
       "      <td>40.02%</td>\n",
       "      <td>77.0</td>\n",
       "      <td>3.0</td>\n",
       "      <td>35.0</td>\n",
       "      <td>21.0</td>\n",
       "      <td>7.0</td>\n",
       "      <td>7</td>\n",
       "      <td>7</td>\n",
       "      <td>1</td>\n",
       "    </tr>\n",
       "  </tbody>\n",
       "</table>\n",
       "</div>"
      ],
      "text/plain": [
       "      id                                              title  Rating maincateg  \\\n",
       "0  16695  Fashionable & Comfortable Bellies For Women  (...     3.9     Women   \n",
       "1   5120  Combo Pack of 4 Casual Shoes Sneakers For Men ...     3.8       Men   \n",
       "2  18391         Cilia Mode Leo Sneakers For Women  (White)     4.4     Women   \n",
       "3    495                            Men Black Sports Sandal     4.2       Men   \n",
       "4  16408                            Men Green Sports Sandal     3.9       Men   \n",
       "\n",
       "   platform  price1  actprice1 Offer %  norating1  noreviews1  star_5f  \\\n",
       "0  Flipkart     698        999  30.13%       38.0         7.0     17.0   \n",
       "1  Flipkart     999       1999  50.03%      531.0        69.0    264.0   \n",
       "2  Flipkart    2749       4999  45.01%       17.0         4.0     11.0   \n",
       "3  Flipkart     518        724  15.85%    46413.0      6229.0   1045.0   \n",
       "4  Flipkart    1379       2299  40.02%       77.0         3.0     35.0   \n",
       "\n",
       "   star_4f  star_3f  star_2f  star_1f  fulfilled1  \n",
       "0      9.0      6.0        3        3           0  \n",
       "1     92.0     73.0       29       73           1  \n",
       "2      3.0      2.0        1        0           1  \n",
       "3  12416.0   5352.0      701     4595           1  \n",
       "4     21.0      7.0        7        7           1  "
      ]
     },
     "execution_count": 50,
     "metadata": {},
     "output_type": "execute_result"
    }
   ],
   "source": [
    "df.head()"
   ]
  },
  {
   "cell_type": "code",
   "execution_count": 51,
   "metadata": {
    "execution": {
     "iopub.execute_input": "2022-07-18T09:53:23.728729Z",
     "iopub.status.busy": "2022-07-18T09:53:23.728373Z",
     "iopub.status.idle": "2022-07-18T09:53:23.749440Z",
     "shell.execute_reply": "2022-07-18T09:53:23.748330Z",
     "shell.execute_reply.started": "2022-07-18T09:53:23.728695Z"
    }
   },
   "outputs": [],
   "source": [
    "X1=df_test.drop(columns=['id','title'])\n",
    "X1.Rating.fillna(df.Rating.mean(),inplace=True)\n",
    "X1['maincateg'].fillna(X1['maincateg'].mode()[0], inplace=True)\n",
    "X1['fulfilled1'].fillna(X1['fulfilled1'].mode()[0], inplace=True)\n",
    "X1['norating1'] = X1['norating1'].fillna(0)\n",
    "X1=X1.drop(columns=['noreviews1','star_5f','star_4f','star_3f','star_2f','star_1f'])\n",
    "X1=pd.get_dummies(X1, columns = ['maincateg','platform'])\n",
    "X1 = scaler.transform(X1)"
   ]
  },
  {
   "cell_type": "markdown",
   "metadata": {},
   "source": [
    "### Predicting Result:"
   ]
  },
  {
   "cell_type": "code",
   "execution_count": 52,
   "metadata": {
    "execution": {
     "iopub.execute_input": "2022-07-18T09:53:23.751697Z",
     "iopub.status.busy": "2022-07-18T09:53:23.751100Z",
     "iopub.status.idle": "2022-07-18T09:53:23.766412Z",
     "shell.execute_reply": "2022-07-18T09:53:23.765525Z",
     "shell.execute_reply.started": "2022-07-18T09:53:23.751663Z"
    }
   },
   "outputs": [
    {
     "name": "stdout",
     "output_type": "stream",
     "text": [
      "(5244,)\n",
      "(5244,)\n"
     ]
    }
   ],
   "source": [
    "ans1=randmf.predict(X1)     # random forest regressor\n",
    "print(ans1.shape)\n",
    "ans2=model_XGB.predict(X1)  #XGBoost Regressor\n",
    "print(ans2.shape)\n",
    "ans=(ans1+ans2)/2"
   ]
  },
  {
   "cell_type": "code",
   "execution_count": 53,
   "metadata": {
    "execution": {
     "iopub.execute_input": "2022-07-18T09:53:23.768590Z",
     "iopub.status.busy": "2022-07-18T09:53:23.767957Z",
     "iopub.status.idle": "2022-07-18T09:53:23.774993Z",
     "shell.execute_reply": "2022-07-18T09:53:23.774073Z",
     "shell.execute_reply.started": "2022-07-18T09:53:23.768553Z"
    }
   },
   "outputs": [
    {
     "data": {
      "text/plain": [
       "(5244,)"
      ]
     },
     "execution_count": 53,
     "metadata": {},
     "output_type": "execute_result"
    }
   ],
   "source": [
    "id=df_test.id.to_numpy()\n",
    "id.shape"
   ]
  },
  {
   "cell_type": "code",
   "execution_count": 54,
   "metadata": {
    "execution": {
     "iopub.execute_input": "2022-07-18T09:53:23.777070Z",
     "iopub.status.busy": "2022-07-18T09:53:23.776423Z",
     "iopub.status.idle": "2022-07-18T09:53:23.794178Z",
     "shell.execute_reply": "2022-07-18T09:53:23.792938Z",
     "shell.execute_reply.started": "2022-07-18T09:53:23.777034Z"
    }
   },
   "outputs": [
    {
     "data": {
      "text/html": [
       "<div>\n",
       "<style scoped>\n",
       "    .dataframe tbody tr th:only-of-type {\n",
       "        vertical-align: middle;\n",
       "    }\n",
       "\n",
       "    .dataframe tbody tr th {\n",
       "        vertical-align: top;\n",
       "    }\n",
       "\n",
       "    .dataframe thead th {\n",
       "        text-align: right;\n",
       "    }\n",
       "</style>\n",
       "<table border=\"1\" class=\"dataframe\">\n",
       "  <thead>\n",
       "    <tr style=\"text-align: right;\">\n",
       "      <th></th>\n",
       "      <th>id</th>\n",
       "      <th>price1</th>\n",
       "    </tr>\n",
       "  </thead>\n",
       "  <tbody>\n",
       "    <tr>\n",
       "      <th>0</th>\n",
       "      <td>2242</td>\n",
       "      <td>428.067501</td>\n",
       "    </tr>\n",
       "    <tr>\n",
       "      <th>1</th>\n",
       "      <td>20532</td>\n",
       "      <td>315.393012</td>\n",
       "    </tr>\n",
       "    <tr>\n",
       "      <th>2</th>\n",
       "      <td>10648</td>\n",
       "      <td>478.374025</td>\n",
       "    </tr>\n",
       "    <tr>\n",
       "      <th>3</th>\n",
       "      <td>20677</td>\n",
       "      <td>828.750647</td>\n",
       "    </tr>\n",
       "    <tr>\n",
       "      <th>4</th>\n",
       "      <td>12593</td>\n",
       "      <td>401.276002</td>\n",
       "    </tr>\n",
       "    <tr>\n",
       "      <th>5</th>\n",
       "      <td>11159</td>\n",
       "      <td>467.663054</td>\n",
       "    </tr>\n",
       "    <tr>\n",
       "      <th>6</th>\n",
       "      <td>10680</td>\n",
       "      <td>438.232914</td>\n",
       "    </tr>\n",
       "    <tr>\n",
       "      <th>7</th>\n",
       "      <td>6433</td>\n",
       "      <td>2601.928342</td>\n",
       "    </tr>\n",
       "    <tr>\n",
       "      <th>8</th>\n",
       "      <td>2794</td>\n",
       "      <td>259.076567</td>\n",
       "    </tr>\n",
       "    <tr>\n",
       "      <th>9</th>\n",
       "      <td>11579</td>\n",
       "      <td>715.982581</td>\n",
       "    </tr>\n",
       "    <tr>\n",
       "      <th>10</th>\n",
       "      <td>13859</td>\n",
       "      <td>250.998444</td>\n",
       "    </tr>\n",
       "    <tr>\n",
       "      <th>11</th>\n",
       "      <td>12260</td>\n",
       "      <td>473.670248</td>\n",
       "    </tr>\n",
       "    <tr>\n",
       "      <th>12</th>\n",
       "      <td>18254</td>\n",
       "      <td>380.883784</td>\n",
       "    </tr>\n",
       "    <tr>\n",
       "      <th>13</th>\n",
       "      <td>19453</td>\n",
       "      <td>474.857625</td>\n",
       "    </tr>\n",
       "    <tr>\n",
       "      <th>14</th>\n",
       "      <td>8121</td>\n",
       "      <td>972.806665</td>\n",
       "    </tr>\n",
       "  </tbody>\n",
       "</table>\n",
       "</div>"
      ],
      "text/plain": [
       "       id       price1\n",
       "0    2242   428.067501\n",
       "1   20532   315.393012\n",
       "2   10648   478.374025\n",
       "3   20677   828.750647\n",
       "4   12593   401.276002\n",
       "5   11159   467.663054\n",
       "6   10680   438.232914\n",
       "7    6433  2601.928342\n",
       "8    2794   259.076567\n",
       "9   11579   715.982581\n",
       "10  13859   250.998444\n",
       "11  12260   473.670248\n",
       "12  18254   380.883784\n",
       "13  19453   474.857625\n",
       "14   8121   972.806665"
      ]
     },
     "execution_count": 54,
     "metadata": {},
     "output_type": "execute_result"
    }
   ],
   "source": [
    "submission_2=pd.DataFrame({'id':id,'price1':ans},columns=['id','price1'])\n",
    "submission_2.head(15)"
   ]
  },
  {
   "cell_type": "code",
   "execution_count": 55,
   "metadata": {
    "execution": {
     "iopub.execute_input": "2022-07-18T09:53:23.796105Z",
     "iopub.status.busy": "2022-07-18T09:53:23.795606Z",
     "iopub.status.idle": "2022-07-18T09:53:23.819089Z",
     "shell.execute_reply": "2022-07-18T09:53:23.818100Z",
     "shell.execute_reply.started": "2022-07-18T09:53:23.796065Z"
    }
   },
   "outputs": [],
   "source": [
    "submission_2.to_csv('submission.csv',index=False)"
   ]
  },
  {
   "cell_type": "code",
   "execution_count": null,
   "metadata": {},
   "outputs": [],
   "source": []
  },
  {
   "cell_type": "code",
   "execution_count": null,
   "metadata": {},
   "outputs": [],
   "source": []
  }
 ],
 "metadata": {
  "kernelspec": {
   "display_name": "Python 3",
   "language": "python",
   "name": "python3"
  },
  "language_info": {
   "codemirror_mode": {
    "name": "ipython",
    "version": 3
   },
   "file_extension": ".py",
   "mimetype": "text/x-python",
   "name": "python",
   "nbconvert_exporter": "python",
   "pygments_lexer": "ipython3",
   "version": "3.8.8"
  }
 },
 "nbformat": 4,
 "nbformat_minor": 4
}
